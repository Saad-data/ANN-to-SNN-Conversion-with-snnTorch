{
  "nbformat": 4,
  "nbformat_minor": 0,
  "metadata": {
    "colab": {
      "provenance": []
    },
    "kernelspec": {
      "name": "python3",
      "display_name": "Python 3"
    },
    "language_info": {
      "name": "python"
    }
  },
  "cells": [
    {
      "cell_type": "code",
      "source": [
        "!pip install matplotlib"
      ],
      "metadata": {
        "colab": {
          "base_uri": "https://localhost:8080/"
        },
        "id": "SEk9IXmRkmG8",
        "outputId": "895213fd-fcf4-4cfe-88b7-d2e1e39c10a3"
      },
      "execution_count": null,
      "outputs": [
        {
          "output_type": "stream",
          "name": "stdout",
          "text": [
            "Requirement already satisfied: matplotlib in /usr/local/lib/python3.10/dist-packages (3.7.1)\n",
            "Requirement already satisfied: contourpy>=1.0.1 in /usr/local/lib/python3.10/dist-packages (from matplotlib) (1.2.0)\n",
            "Requirement already satisfied: cycler>=0.10 in /usr/local/lib/python3.10/dist-packages (from matplotlib) (0.12.1)\n",
            "Requirement already satisfied: fonttools>=4.22.0 in /usr/local/lib/python3.10/dist-packages (from matplotlib) (4.49.0)\n",
            "Requirement already satisfied: kiwisolver>=1.0.1 in /usr/local/lib/python3.10/dist-packages (from matplotlib) (1.4.5)\n",
            "Requirement already satisfied: numpy>=1.20 in /usr/local/lib/python3.10/dist-packages (from matplotlib) (1.25.2)\n",
            "Requirement already satisfied: packaging>=20.0 in /usr/local/lib/python3.10/dist-packages (from matplotlib) (23.2)\n",
            "Requirement already satisfied: pillow>=6.2.0 in /usr/local/lib/python3.10/dist-packages (from matplotlib) (9.4.0)\n",
            "Requirement already satisfied: pyparsing>=2.3.1 in /usr/local/lib/python3.10/dist-packages (from matplotlib) (3.1.2)\n",
            "Requirement already satisfied: python-dateutil>=2.7 in /usr/local/lib/python3.10/dist-packages (from matplotlib) (2.8.2)\n",
            "Requirement already satisfied: six>=1.5 in /usr/local/lib/python3.10/dist-packages (from python-dateutil>=2.7->matplotlib) (1.16.0)\n"
          ]
        }
      ]
    },
    {
      "cell_type": "code",
      "execution_count": null,
      "metadata": {
        "colab": {
          "base_uri": "https://localhost:8080/"
        },
        "id": "cchKaL-oY2dK",
        "outputId": "fc5b6f02-200a-4942-b07a-5a0405fa3e3c"
      },
      "outputs": [
        {
          "output_type": "stream",
          "name": "stdout",
          "text": [
            "Requirement already satisfied: snntorch in /usr/local/lib/python3.10/dist-packages (0.8.0)\n",
            "Requirement already satisfied: torch>=1.1.0 in /usr/local/lib/python3.10/dist-packages (from snntorch) (2.1.0)\n",
            "Requirement already satisfied: pandas in /usr/local/lib/python3.10/dist-packages (from snntorch) (1.5.3)\n",
            "Requirement already satisfied: matplotlib in /usr/local/lib/python3.10/dist-packages (from snntorch) (3.7.1)\n",
            "Requirement already satisfied: numpy>=1.17 in /usr/local/lib/python3.10/dist-packages (from snntorch) (1.25.2)\n",
            "Requirement already satisfied: nir in /usr/local/lib/python3.10/dist-packages (from snntorch) (1.0.1)\n",
            "Requirement already satisfied: nirtorch in /usr/local/lib/python3.10/dist-packages (from snntorch) (1.0)\n",
            "Requirement already satisfied: filelock in /usr/local/lib/python3.10/dist-packages (from torch>=1.1.0->snntorch) (3.13.1)\n",
            "Requirement already satisfied: typing-extensions in /usr/local/lib/python3.10/dist-packages (from torch>=1.1.0->snntorch) (4.10.0)\n",
            "Requirement already satisfied: sympy in /usr/local/lib/python3.10/dist-packages (from torch>=1.1.0->snntorch) (1.12)\n",
            "Requirement already satisfied: networkx in /usr/local/lib/python3.10/dist-packages (from torch>=1.1.0->snntorch) (3.2.1)\n",
            "Requirement already satisfied: jinja2 in /usr/local/lib/python3.10/dist-packages (from torch>=1.1.0->snntorch) (3.1.3)\n",
            "Requirement already satisfied: fsspec in /usr/local/lib/python3.10/dist-packages (from torch>=1.1.0->snntorch) (2023.6.0)\n",
            "Requirement already satisfied: nvidia-cuda-nvrtc-cu12==12.1.105 in /usr/local/lib/python3.10/dist-packages (from torch>=1.1.0->snntorch) (12.1.105)\n",
            "Requirement already satisfied: nvidia-cuda-runtime-cu12==12.1.105 in /usr/local/lib/python3.10/dist-packages (from torch>=1.1.0->snntorch) (12.1.105)\n",
            "Requirement already satisfied: nvidia-cuda-cupti-cu12==12.1.105 in /usr/local/lib/python3.10/dist-packages (from torch>=1.1.0->snntorch) (12.1.105)\n",
            "Requirement already satisfied: nvidia-cudnn-cu12==8.9.2.26 in /usr/local/lib/python3.10/dist-packages (from torch>=1.1.0->snntorch) (8.9.2.26)\n",
            "Requirement already satisfied: nvidia-cublas-cu12==12.1.3.1 in /usr/local/lib/python3.10/dist-packages (from torch>=1.1.0->snntorch) (12.1.3.1)\n",
            "Requirement already satisfied: nvidia-cufft-cu12==11.0.2.54 in /usr/local/lib/python3.10/dist-packages (from torch>=1.1.0->snntorch) (11.0.2.54)\n",
            "Requirement already satisfied: nvidia-curand-cu12==10.3.2.106 in /usr/local/lib/python3.10/dist-packages (from torch>=1.1.0->snntorch) (10.3.2.106)\n",
            "Requirement already satisfied: nvidia-cusolver-cu12==11.4.5.107 in /usr/local/lib/python3.10/dist-packages (from torch>=1.1.0->snntorch) (11.4.5.107)\n",
            "Requirement already satisfied: nvidia-cusparse-cu12==12.1.0.106 in /usr/local/lib/python3.10/dist-packages (from torch>=1.1.0->snntorch) (12.1.0.106)\n",
            "Requirement already satisfied: nvidia-nccl-cu12==2.18.1 in /usr/local/lib/python3.10/dist-packages (from torch>=1.1.0->snntorch) (2.18.1)\n",
            "Requirement already satisfied: nvidia-nvtx-cu12==12.1.105 in /usr/local/lib/python3.10/dist-packages (from torch>=1.1.0->snntorch) (12.1.105)\n",
            "Requirement already satisfied: triton==2.1.0 in /usr/local/lib/python3.10/dist-packages (from torch>=1.1.0->snntorch) (2.1.0)\n",
            "Requirement already satisfied: nvidia-nvjitlink-cu12 in /usr/local/lib/python3.10/dist-packages (from nvidia-cusolver-cu12==11.4.5.107->torch>=1.1.0->snntorch) (12.4.99)\n",
            "Requirement already satisfied: contourpy>=1.0.1 in /usr/local/lib/python3.10/dist-packages (from matplotlib->snntorch) (1.2.0)\n",
            "Requirement already satisfied: cycler>=0.10 in /usr/local/lib/python3.10/dist-packages (from matplotlib->snntorch) (0.12.1)\n",
            "Requirement already satisfied: fonttools>=4.22.0 in /usr/local/lib/python3.10/dist-packages (from matplotlib->snntorch) (4.49.0)\n",
            "Requirement already satisfied: kiwisolver>=1.0.1 in /usr/local/lib/python3.10/dist-packages (from matplotlib->snntorch) (1.4.5)\n",
            "Requirement already satisfied: packaging>=20.0 in /usr/local/lib/python3.10/dist-packages (from matplotlib->snntorch) (23.2)\n",
            "Requirement already satisfied: pillow>=6.2.0 in /usr/local/lib/python3.10/dist-packages (from matplotlib->snntorch) (9.4.0)\n",
            "Requirement already satisfied: pyparsing>=2.3.1 in /usr/local/lib/python3.10/dist-packages (from matplotlib->snntorch) (3.1.2)\n",
            "Requirement already satisfied: python-dateutil>=2.7 in /usr/local/lib/python3.10/dist-packages (from matplotlib->snntorch) (2.8.2)\n",
            "Requirement already satisfied: h5py in /usr/local/lib/python3.10/dist-packages (from nir->snntorch) (3.9.0)\n",
            "Requirement already satisfied: pytz>=2020.1 in /usr/local/lib/python3.10/dist-packages (from pandas->snntorch) (2023.4)\n",
            "Requirement already satisfied: six>=1.5 in /usr/local/lib/python3.10/dist-packages (from python-dateutil>=2.7->matplotlib->snntorch) (1.16.0)\n",
            "Requirement already satisfied: MarkupSafe>=2.0 in /usr/local/lib/python3.10/dist-packages (from jinja2->torch>=1.1.0->snntorch) (2.1.5)\n",
            "Requirement already satisfied: mpmath>=0.19 in /usr/local/lib/python3.10/dist-packages (from sympy->torch>=1.1.0->snntorch) (1.3.0)\n"
          ]
        }
      ],
      "source": [
        "!pip install snntorch"
      ]
    },
    {
      "cell_type": "code",
      "source": [
        "#!pip install --upgrade torch"
      ],
      "metadata": {
        "id": "_sXizWDcaqRA"
      },
      "execution_count": null,
      "outputs": []
    },
    {
      "cell_type": "code",
      "source": [
        "import torch\n",
        "import snntorch as snn\n",
        "from snntorch import spikegen\n",
        "import time"
      ],
      "metadata": {
        "id": "dVf2f5yUZChn"
      },
      "execution_count": null,
      "outputs": []
    },
    {
      "cell_type": "code",
      "source": [
        "# Define a simple ANN\n",
        "class SimpleANN(torch.nn.Module):\n",
        "    def __init__(self):\n",
        "        super(SimpleANN, self).__init__()\n",
        "        self.fc1 = torch.nn.Linear(10, 10)\n",
        "        self.relu = torch.nn.ReLU()\n",
        "\n",
        "    def forward(self, x):\n",
        "        x = self.fc1(x)\n",
        "        return self.relu(x)"
      ],
      "metadata": {
        "id": "xgF-2Owsaoqe"
      },
      "execution_count": null,
      "outputs": []
    },
    {
      "cell_type": "code",
      "source": [
        "# Convert ANN to SNN\n",
        "class SimpleSNN(torch.nn.Module):\n",
        "    def __init__(self):\n",
        "        super(SimpleSNN, self).__init__()\n",
        "        self.fc1 = torch.nn.Linear(10, 10)\n",
        "        self.lif1 = snn.Leaky(beta=0.5)\n",
        "\n",
        "    def forward(self, x):\n",
        "        mem = self.lif1(self.fc1(x))\n",
        "        return mem"
      ],
      "metadata": {
        "id": "JgaMXr7nZCqL"
      },
      "execution_count": null,
      "outputs": []
    },
    {
      "cell_type": "code",
      "source": [
        "# Function to test the performance of the network\n",
        "def test_performance(model, input_data):\n",
        "    start_time = time.time()\n",
        "    output = model(input_data)\n",
        "    end_time = time.time()\n",
        "    return output, end_time - start_time"
      ],
      "metadata": {
        "id": "L90FXvL0jhxJ"
      },
      "execution_count": null,
      "outputs": []
    },
    {
      "cell_type": "code",
      "source": [
        "# Initialize models\n",
        "ann = SimpleANN()\n",
        "snn = SimpleSNN()"
      ],
      "metadata": {
        "id": "uFnG3X-9jh9F"
      },
      "execution_count": null,
      "outputs": []
    },
    {
      "cell_type": "code",
      "source": [
        "# Generate random input data\n",
        "input_data = torch.rand(1, 10)"
      ],
      "metadata": {
        "id": "6YPxw1r_jpkB"
      },
      "execution_count": null,
      "outputs": []
    },
    {
      "cell_type": "code",
      "source": [
        "# Test ANN performance\n",
        "ann_output, ann_time = test_performance(ann, input_data)\n",
        "print(f\"ANN output: {ann_output}\\nTime taken: {ann_time} seconds\")"
      ],
      "metadata": {
        "colab": {
          "base_uri": "https://localhost:8080/"
        },
        "id": "RN_YqFZIjptI",
        "outputId": "3cf1aa12-414a-4890-cad5-b351c14157f7"
      },
      "execution_count": null,
      "outputs": [
        {
          "output_type": "stream",
          "name": "stdout",
          "text": [
            "ANN output: tensor([[0.0000, 0.2688, 0.2265, 0.0000, 0.0000, 0.8848, 0.2036, 0.0000, 0.0000,\n",
            "         0.0000]], grad_fn=<ReluBackward0>)\n",
            "Time taken: 0.0012357234954833984 seconds\n"
          ]
        }
      ]
    },
    {
      "cell_type": "code",
      "source": [
        "#Test SNN performance and collect outputs at each time step\n",
        "time_steps = 100\n",
        "snn_outputs = torch.zeros(time_steps, 10)  # Assuming 10 output neurons\n",
        "input_data = input_data.repeat(time_steps, 1, 1)"
      ],
      "metadata": {
        "id": "05MOCOjYlWqd"
      },
      "execution_count": null,
      "outputs": []
    },
    {
      "cell_type": "code",
      "source": [
        "# Test SNN performance\n",
        "# Note: SNNs operate over time, so input data needs a time dimension\n",
        "#time_steps = 100\n",
        "#input_data = input_data.repeat(time_steps, 1, 1)\n",
        "##snn_output, snn_time = test_performance(snn, input_data)\n",
        "#print(f\"SNN output at last time step: {snn_output[-1]}\\nTime taken: {snn_time} seconds\")"
      ],
      "metadata": {
        "colab": {
          "base_uri": "https://localhost:8080/"
        },
        "id": "dP40bfLrjxW8",
        "outputId": "d94bae5b-7e1e-4ed0-ad5f-14bcf71bfd96"
      },
      "execution_count": null,
      "outputs": [
        {
          "output_type": "stream",
          "name": "stdout",
          "text": [
            "SNN output at last time step: tensor([[[-0.8301,  0.4061,  0.1357, -0.0785,  0.4388,  0.1703,  0.0135,\n",
            "          -0.3046,  0.0785,  0.3943]],\n",
            "\n",
            "        [[-0.8301,  0.4061,  0.1357, -0.0785,  0.4388,  0.1703,  0.0135,\n",
            "          -0.3046,  0.0785,  0.3943]],\n",
            "\n",
            "        [[-0.8301,  0.4061,  0.1357, -0.0785,  0.4388,  0.1703,  0.0135,\n",
            "          -0.3046,  0.0785,  0.3943]],\n",
            "\n",
            "        [[-0.8301,  0.4061,  0.1357, -0.0785,  0.4388,  0.1703,  0.0135,\n",
            "          -0.3046,  0.0785,  0.3943]],\n",
            "\n",
            "        [[-0.8301,  0.4061,  0.1357, -0.0785,  0.4388,  0.1703,  0.0135,\n",
            "          -0.3046,  0.0785,  0.3943]],\n",
            "\n",
            "        [[-0.8301,  0.4061,  0.1357, -0.0785,  0.4388,  0.1703,  0.0135,\n",
            "          -0.3046,  0.0785,  0.3943]],\n",
            "\n",
            "        [[-0.8301,  0.4061,  0.1357, -0.0785,  0.4388,  0.1703,  0.0135,\n",
            "          -0.3046,  0.0785,  0.3943]],\n",
            "\n",
            "        [[-0.8301,  0.4061,  0.1357, -0.0785,  0.4388,  0.1703,  0.0135,\n",
            "          -0.3046,  0.0785,  0.3943]],\n",
            "\n",
            "        [[-0.8301,  0.4061,  0.1357, -0.0785,  0.4388,  0.1703,  0.0135,\n",
            "          -0.3046,  0.0785,  0.3943]],\n",
            "\n",
            "        [[-0.8301,  0.4061,  0.1357, -0.0785,  0.4388,  0.1703,  0.0135,\n",
            "          -0.3046,  0.0785,  0.3943]],\n",
            "\n",
            "        [[-0.8301,  0.4061,  0.1357, -0.0785,  0.4388,  0.1703,  0.0135,\n",
            "          -0.3046,  0.0785,  0.3943]],\n",
            "\n",
            "        [[-0.8301,  0.4061,  0.1357, -0.0785,  0.4388,  0.1703,  0.0135,\n",
            "          -0.3046,  0.0785,  0.3943]],\n",
            "\n",
            "        [[-0.8301,  0.4061,  0.1357, -0.0785,  0.4388,  0.1703,  0.0135,\n",
            "          -0.3046,  0.0785,  0.3943]],\n",
            "\n",
            "        [[-0.8301,  0.4061,  0.1357, -0.0785,  0.4388,  0.1703,  0.0135,\n",
            "          -0.3046,  0.0785,  0.3943]],\n",
            "\n",
            "        [[-0.8301,  0.4061,  0.1357, -0.0785,  0.4388,  0.1703,  0.0135,\n",
            "          -0.3046,  0.0785,  0.3943]],\n",
            "\n",
            "        [[-0.8301,  0.4061,  0.1357, -0.0785,  0.4388,  0.1703,  0.0135,\n",
            "          -0.3046,  0.0785,  0.3943]],\n",
            "\n",
            "        [[-0.8301,  0.4061,  0.1357, -0.0785,  0.4388,  0.1703,  0.0135,\n",
            "          -0.3046,  0.0785,  0.3943]],\n",
            "\n",
            "        [[-0.8301,  0.4061,  0.1357, -0.0785,  0.4388,  0.1703,  0.0135,\n",
            "          -0.3046,  0.0785,  0.3943]],\n",
            "\n",
            "        [[-0.8301,  0.4061,  0.1357, -0.0785,  0.4388,  0.1703,  0.0135,\n",
            "          -0.3046,  0.0785,  0.3943]],\n",
            "\n",
            "        [[-0.8301,  0.4061,  0.1357, -0.0785,  0.4388,  0.1703,  0.0135,\n",
            "          -0.3046,  0.0785,  0.3943]],\n",
            "\n",
            "        [[-0.8301,  0.4061,  0.1357, -0.0785,  0.4388,  0.1703,  0.0135,\n",
            "          -0.3046,  0.0785,  0.3943]],\n",
            "\n",
            "        [[-0.8301,  0.4061,  0.1357, -0.0785,  0.4388,  0.1703,  0.0135,\n",
            "          -0.3046,  0.0785,  0.3943]],\n",
            "\n",
            "        [[-0.8301,  0.4061,  0.1357, -0.0785,  0.4388,  0.1703,  0.0135,\n",
            "          -0.3046,  0.0785,  0.3943]],\n",
            "\n",
            "        [[-0.8301,  0.4061,  0.1357, -0.0785,  0.4388,  0.1703,  0.0135,\n",
            "          -0.3046,  0.0785,  0.3943]],\n",
            "\n",
            "        [[-0.8301,  0.4061,  0.1357, -0.0785,  0.4388,  0.1703,  0.0135,\n",
            "          -0.3046,  0.0785,  0.3943]],\n",
            "\n",
            "        [[-0.8301,  0.4061,  0.1357, -0.0785,  0.4388,  0.1703,  0.0135,\n",
            "          -0.3046,  0.0785,  0.3943]],\n",
            "\n",
            "        [[-0.8301,  0.4061,  0.1357, -0.0785,  0.4388,  0.1703,  0.0135,\n",
            "          -0.3046,  0.0785,  0.3943]],\n",
            "\n",
            "        [[-0.8301,  0.4061,  0.1357, -0.0785,  0.4388,  0.1703,  0.0135,\n",
            "          -0.3046,  0.0785,  0.3943]],\n",
            "\n",
            "        [[-0.8301,  0.4061,  0.1357, -0.0785,  0.4388,  0.1703,  0.0135,\n",
            "          -0.3046,  0.0785,  0.3943]],\n",
            "\n",
            "        [[-0.8301,  0.4061,  0.1357, -0.0785,  0.4388,  0.1703,  0.0135,\n",
            "          -0.3046,  0.0785,  0.3943]],\n",
            "\n",
            "        [[-0.8301,  0.4061,  0.1357, -0.0785,  0.4388,  0.1703,  0.0135,\n",
            "          -0.3046,  0.0785,  0.3943]],\n",
            "\n",
            "        [[-0.8301,  0.4061,  0.1357, -0.0785,  0.4388,  0.1703,  0.0135,\n",
            "          -0.3046,  0.0785,  0.3943]],\n",
            "\n",
            "        [[-0.8301,  0.4061,  0.1357, -0.0785,  0.4388,  0.1703,  0.0135,\n",
            "          -0.3046,  0.0785,  0.3943]],\n",
            "\n",
            "        [[-0.8301,  0.4061,  0.1357, -0.0785,  0.4388,  0.1703,  0.0135,\n",
            "          -0.3046,  0.0785,  0.3943]],\n",
            "\n",
            "        [[-0.8301,  0.4061,  0.1357, -0.0785,  0.4388,  0.1703,  0.0135,\n",
            "          -0.3046,  0.0785,  0.3943]],\n",
            "\n",
            "        [[-0.8301,  0.4061,  0.1357, -0.0785,  0.4388,  0.1703,  0.0135,\n",
            "          -0.3046,  0.0785,  0.3943]],\n",
            "\n",
            "        [[-0.8301,  0.4061,  0.1357, -0.0785,  0.4388,  0.1703,  0.0135,\n",
            "          -0.3046,  0.0785,  0.3943]],\n",
            "\n",
            "        [[-0.8301,  0.4061,  0.1357, -0.0785,  0.4388,  0.1703,  0.0135,\n",
            "          -0.3046,  0.0785,  0.3943]],\n",
            "\n",
            "        [[-0.8301,  0.4061,  0.1357, -0.0785,  0.4388,  0.1703,  0.0135,\n",
            "          -0.3046,  0.0785,  0.3943]],\n",
            "\n",
            "        [[-0.8301,  0.4061,  0.1357, -0.0785,  0.4388,  0.1703,  0.0135,\n",
            "          -0.3046,  0.0785,  0.3943]],\n",
            "\n",
            "        [[-0.8301,  0.4061,  0.1357, -0.0785,  0.4388,  0.1703,  0.0135,\n",
            "          -0.3046,  0.0785,  0.3943]],\n",
            "\n",
            "        [[-0.8301,  0.4061,  0.1357, -0.0785,  0.4388,  0.1703,  0.0135,\n",
            "          -0.3046,  0.0785,  0.3943]],\n",
            "\n",
            "        [[-0.8301,  0.4061,  0.1357, -0.0785,  0.4388,  0.1703,  0.0135,\n",
            "          -0.3046,  0.0785,  0.3943]],\n",
            "\n",
            "        [[-0.8301,  0.4061,  0.1357, -0.0785,  0.4388,  0.1703,  0.0135,\n",
            "          -0.3046,  0.0785,  0.3943]],\n",
            "\n",
            "        [[-0.8301,  0.4061,  0.1357, -0.0785,  0.4388,  0.1703,  0.0135,\n",
            "          -0.3046,  0.0785,  0.3943]],\n",
            "\n",
            "        [[-0.8301,  0.4061,  0.1357, -0.0785,  0.4388,  0.1703,  0.0135,\n",
            "          -0.3046,  0.0785,  0.3943]],\n",
            "\n",
            "        [[-0.8301,  0.4061,  0.1357, -0.0785,  0.4388,  0.1703,  0.0135,\n",
            "          -0.3046,  0.0785,  0.3943]],\n",
            "\n",
            "        [[-0.8301,  0.4061,  0.1357, -0.0785,  0.4388,  0.1703,  0.0135,\n",
            "          -0.3046,  0.0785,  0.3943]],\n",
            "\n",
            "        [[-0.8301,  0.4061,  0.1357, -0.0785,  0.4388,  0.1703,  0.0135,\n",
            "          -0.3046,  0.0785,  0.3943]],\n",
            "\n",
            "        [[-0.8301,  0.4061,  0.1357, -0.0785,  0.4388,  0.1703,  0.0135,\n",
            "          -0.3046,  0.0785,  0.3943]],\n",
            "\n",
            "        [[-0.8301,  0.4061,  0.1357, -0.0785,  0.4388,  0.1703,  0.0135,\n",
            "          -0.3046,  0.0785,  0.3943]],\n",
            "\n",
            "        [[-0.8301,  0.4061,  0.1357, -0.0785,  0.4388,  0.1703,  0.0135,\n",
            "          -0.3046,  0.0785,  0.3943]],\n",
            "\n",
            "        [[-0.8301,  0.4061,  0.1357, -0.0785,  0.4388,  0.1703,  0.0135,\n",
            "          -0.3046,  0.0785,  0.3943]],\n",
            "\n",
            "        [[-0.8301,  0.4061,  0.1357, -0.0785,  0.4388,  0.1703,  0.0135,\n",
            "          -0.3046,  0.0785,  0.3943]],\n",
            "\n",
            "        [[-0.8301,  0.4061,  0.1357, -0.0785,  0.4388,  0.1703,  0.0135,\n",
            "          -0.3046,  0.0785,  0.3943]],\n",
            "\n",
            "        [[-0.8301,  0.4061,  0.1357, -0.0785,  0.4388,  0.1703,  0.0135,\n",
            "          -0.3046,  0.0785,  0.3943]],\n",
            "\n",
            "        [[-0.8301,  0.4061,  0.1357, -0.0785,  0.4388,  0.1703,  0.0135,\n",
            "          -0.3046,  0.0785,  0.3943]],\n",
            "\n",
            "        [[-0.8301,  0.4061,  0.1357, -0.0785,  0.4388,  0.1703,  0.0135,\n",
            "          -0.3046,  0.0785,  0.3943]],\n",
            "\n",
            "        [[-0.8301,  0.4061,  0.1357, -0.0785,  0.4388,  0.1703,  0.0135,\n",
            "          -0.3046,  0.0785,  0.3943]],\n",
            "\n",
            "        [[-0.8301,  0.4061,  0.1357, -0.0785,  0.4388,  0.1703,  0.0135,\n",
            "          -0.3046,  0.0785,  0.3943]],\n",
            "\n",
            "        [[-0.8301,  0.4061,  0.1357, -0.0785,  0.4388,  0.1703,  0.0135,\n",
            "          -0.3046,  0.0785,  0.3943]],\n",
            "\n",
            "        [[-0.8301,  0.4061,  0.1357, -0.0785,  0.4388,  0.1703,  0.0135,\n",
            "          -0.3046,  0.0785,  0.3943]],\n",
            "\n",
            "        [[-0.8301,  0.4061,  0.1357, -0.0785,  0.4388,  0.1703,  0.0135,\n",
            "          -0.3046,  0.0785,  0.3943]],\n",
            "\n",
            "        [[-0.8301,  0.4061,  0.1357, -0.0785,  0.4388,  0.1703,  0.0135,\n",
            "          -0.3046,  0.0785,  0.3943]],\n",
            "\n",
            "        [[-0.8301,  0.4061,  0.1357, -0.0785,  0.4388,  0.1703,  0.0135,\n",
            "          -0.3046,  0.0785,  0.3943]],\n",
            "\n",
            "        [[-0.8301,  0.4061,  0.1357, -0.0785,  0.4388,  0.1703,  0.0135,\n",
            "          -0.3046,  0.0785,  0.3943]],\n",
            "\n",
            "        [[-0.8301,  0.4061,  0.1357, -0.0785,  0.4388,  0.1703,  0.0135,\n",
            "          -0.3046,  0.0785,  0.3943]],\n",
            "\n",
            "        [[-0.8301,  0.4061,  0.1357, -0.0785,  0.4388,  0.1703,  0.0135,\n",
            "          -0.3046,  0.0785,  0.3943]],\n",
            "\n",
            "        [[-0.8301,  0.4061,  0.1357, -0.0785,  0.4388,  0.1703,  0.0135,\n",
            "          -0.3046,  0.0785,  0.3943]],\n",
            "\n",
            "        [[-0.8301,  0.4061,  0.1357, -0.0785,  0.4388,  0.1703,  0.0135,\n",
            "          -0.3046,  0.0785,  0.3943]],\n",
            "\n",
            "        [[-0.8301,  0.4061,  0.1357, -0.0785,  0.4388,  0.1703,  0.0135,\n",
            "          -0.3046,  0.0785,  0.3943]],\n",
            "\n",
            "        [[-0.8301,  0.4061,  0.1357, -0.0785,  0.4388,  0.1703,  0.0135,\n",
            "          -0.3046,  0.0785,  0.3943]],\n",
            "\n",
            "        [[-0.8301,  0.4061,  0.1357, -0.0785,  0.4388,  0.1703,  0.0135,\n",
            "          -0.3046,  0.0785,  0.3943]],\n",
            "\n",
            "        [[-0.8301,  0.4061,  0.1357, -0.0785,  0.4388,  0.1703,  0.0135,\n",
            "          -0.3046,  0.0785,  0.3943]],\n",
            "\n",
            "        [[-0.8301,  0.4061,  0.1357, -0.0785,  0.4388,  0.1703,  0.0135,\n",
            "          -0.3046,  0.0785,  0.3943]],\n",
            "\n",
            "        [[-0.8301,  0.4061,  0.1357, -0.0785,  0.4388,  0.1703,  0.0135,\n",
            "          -0.3046,  0.0785,  0.3943]],\n",
            "\n",
            "        [[-0.8301,  0.4061,  0.1357, -0.0785,  0.4388,  0.1703,  0.0135,\n",
            "          -0.3046,  0.0785,  0.3943]],\n",
            "\n",
            "        [[-0.8301,  0.4061,  0.1357, -0.0785,  0.4388,  0.1703,  0.0135,\n",
            "          -0.3046,  0.0785,  0.3943]],\n",
            "\n",
            "        [[-0.8301,  0.4061,  0.1357, -0.0785,  0.4388,  0.1703,  0.0135,\n",
            "          -0.3046,  0.0785,  0.3943]],\n",
            "\n",
            "        [[-0.8301,  0.4061,  0.1357, -0.0785,  0.4388,  0.1703,  0.0135,\n",
            "          -0.3046,  0.0785,  0.3943]],\n",
            "\n",
            "        [[-0.8301,  0.4061,  0.1357, -0.0785,  0.4388,  0.1703,  0.0135,\n",
            "          -0.3046,  0.0785,  0.3943]],\n",
            "\n",
            "        [[-0.8301,  0.4061,  0.1357, -0.0785,  0.4388,  0.1703,  0.0135,\n",
            "          -0.3046,  0.0785,  0.3943]],\n",
            "\n",
            "        [[-0.8301,  0.4061,  0.1357, -0.0785,  0.4388,  0.1703,  0.0135,\n",
            "          -0.3046,  0.0785,  0.3943]],\n",
            "\n",
            "        [[-0.8301,  0.4061,  0.1357, -0.0785,  0.4388,  0.1703,  0.0135,\n",
            "          -0.3046,  0.0785,  0.3943]],\n",
            "\n",
            "        [[-0.8301,  0.4061,  0.1357, -0.0785,  0.4388,  0.1703,  0.0135,\n",
            "          -0.3046,  0.0785,  0.3943]],\n",
            "\n",
            "        [[-0.8301,  0.4061,  0.1357, -0.0785,  0.4388,  0.1703,  0.0135,\n",
            "          -0.3046,  0.0785,  0.3943]],\n",
            "\n",
            "        [[-0.8301,  0.4061,  0.1357, -0.0785,  0.4388,  0.1703,  0.0135,\n",
            "          -0.3046,  0.0785,  0.3943]],\n",
            "\n",
            "        [[-0.8301,  0.4061,  0.1357, -0.0785,  0.4388,  0.1703,  0.0135,\n",
            "          -0.3046,  0.0785,  0.3943]],\n",
            "\n",
            "        [[-0.8301,  0.4061,  0.1357, -0.0785,  0.4388,  0.1703,  0.0135,\n",
            "          -0.3046,  0.0785,  0.3943]],\n",
            "\n",
            "        [[-0.8301,  0.4061,  0.1357, -0.0785,  0.4388,  0.1703,  0.0135,\n",
            "          -0.3046,  0.0785,  0.3943]],\n",
            "\n",
            "        [[-0.8301,  0.4061,  0.1357, -0.0785,  0.4388,  0.1703,  0.0135,\n",
            "          -0.3046,  0.0785,  0.3943]],\n",
            "\n",
            "        [[-0.8301,  0.4061,  0.1357, -0.0785,  0.4388,  0.1703,  0.0135,\n",
            "          -0.3046,  0.0785,  0.3943]],\n",
            "\n",
            "        [[-0.8301,  0.4061,  0.1357, -0.0785,  0.4388,  0.1703,  0.0135,\n",
            "          -0.3046,  0.0785,  0.3943]],\n",
            "\n",
            "        [[-0.8301,  0.4061,  0.1357, -0.0785,  0.4388,  0.1703,  0.0135,\n",
            "          -0.3046,  0.0785,  0.3943]],\n",
            "\n",
            "        [[-0.8301,  0.4061,  0.1357, -0.0785,  0.4388,  0.1703,  0.0135,\n",
            "          -0.3046,  0.0785,  0.3943]],\n",
            "\n",
            "        [[-0.8301,  0.4061,  0.1357, -0.0785,  0.4388,  0.1703,  0.0135,\n",
            "          -0.3046,  0.0785,  0.3943]],\n",
            "\n",
            "        [[-0.8301,  0.4061,  0.1357, -0.0785,  0.4388,  0.1703,  0.0135,\n",
            "          -0.3046,  0.0785,  0.3943]],\n",
            "\n",
            "        [[-0.8301,  0.4061,  0.1357, -0.0785,  0.4388,  0.1703,  0.0135,\n",
            "          -0.3046,  0.0785,  0.3943]],\n",
            "\n",
            "        [[-0.8301,  0.4061,  0.1357, -0.0785,  0.4388,  0.1703,  0.0135,\n",
            "          -0.3046,  0.0785,  0.3943]],\n",
            "\n",
            "        [[-0.8301,  0.4061,  0.1357, -0.0785,  0.4388,  0.1703,  0.0135,\n",
            "          -0.3046,  0.0785,  0.3943]]], grad_fn=<SubBackward0>)\n",
            "Time taken: 0.0008919239044189453 seconds\n"
          ]
        }
      ]
    },
    {
      "cell_type": "code",
      "source": [
        "import matplotlib.pyplot as plt"
      ],
      "metadata": {
        "id": "HidNt4jNm1_K"
      },
      "execution_count": null,
      "outputs": []
    },
    {
      "cell_type": "code",
      "source": [
        "for t in range(time_steps):\n",
        "    snn_output, _ = snn(input_data[t])  # Extracting the relevant output from the tuple\n",
        "    snn_outputs[t] = snn_output\n",
        "\n",
        "# Plotting\n",
        "plt.figure(figsize=(12, 6))\n",
        "plt.subplot(1, 2, 1)\n",
        "plt.plot(ann_output.detach().numpy().flatten(), label='ANN Output')\n",
        "plt.title('ANN Output')\n",
        "plt.xlabel('Output Neurons')\n",
        "plt.ylabel('Activation')\n",
        "plt.legend()\n",
        "\n",
        "plt.subplot(1, 2, 2)\n",
        "plt.imshow(snn_outputs.detach().numpy().T, cmap='hot', aspect='auto')\n",
        "plt.colorbar(label='Activation')\n",
        "plt.title('SNN Output Over Time')\n",
        "plt.xlabel('Time Step')\n",
        "plt.ylabel('Output Neurons')\n",
        "plt.show()"
      ],
      "metadata": {
        "colab": {
          "base_uri": "https://localhost:8080/",
          "height": 564
        },
        "id": "PC-R2Ws1kjDZ",
        "outputId": "6e1bd84e-9fa2-437d-c4a8-b64323cf91b4"
      },
      "execution_count": null,
      "outputs": [
        {
          "output_type": "display_data",
          "data": {
            "text/plain": [
              "<Figure size 1200x600 with 3 Axes>"
            ],
            "image/png": "[encoded data removed]"
          },
          "metadata": {}
        }
      ]
    },
    {
      "cell_type": "code",
      "source": [],
      "metadata": {
        "id": "o66UMRiIkkp9"
      },
      "execution_count": null,
      "outputs": []
    }
  ]
}